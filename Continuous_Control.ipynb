{
 "cells": [
  {
   "cell_type": "markdown",
   "metadata": {},
   "source": [
    "# Continuous Control\n",
    "\n",
    "---\n",
    "\n",
    "In this notebook, you will learn how to use the Unity ML-Agents environment for the second project of the [Deep Reinforcement Learning Nanodegree](https://www.udacity.com/course/deep-reinforcement-learning-nanodegree--nd893) program.\n",
    "\n",
    "### 1. Start the Environment\n",
    "\n",
    "We begin by importing the necessary packages.  If the code cell below returns an error, please revisit the project instructions to double-check that you have installed [Unity ML-Agents](https://github.com/Unity-Technologies/ml-agents/blob/master/docs/Installation.md) and [NumPy](http://www.numpy.org/)."
   ]
  },
  {
   "cell_type": "code",
   "execution_count": 1,
   "metadata": {
    "collapsed": true
   },
   "outputs": [],
   "source": [
    "from unityagents import UnityEnvironment\n",
    "import numpy as np"
   ]
  },
  {
   "cell_type": "markdown",
   "metadata": {},
   "source": [
    "Next, we will start the environment!  **_Before running the code cell below_**, change the `file_name` parameter to match the location of the Unity environment that you downloaded.\n",
    "\n",
    "- **Mac**: `\"path/to/Reacher.app\"`\n",
    "- **Windows** (x86): `\"path/to/Reacher_Windows_x86/Reacher.exe\"`\n",
    "- **Windows** (x86_64): `\"path/to/Reacher_Windows_x86_64/Reacher.exe\"`\n",
    "- **Linux** (x86): `\"path/to/Reacher_Linux/Reacher.x86\"`\n",
    "- **Linux** (x86_64): `\"path/to/Reacher_Linux/Reacher.x86_64\"`\n",
    "- **Linux** (x86, headless): `\"path/to/Reacher_Linux_NoVis/Reacher.x86\"`\n",
    "- **Linux** (x86_64, headless): `\"path/to/Reacher_Linux_NoVis/Reacher.x86_64\"`\n",
    "\n",
    "For instance, if you are using a Mac, then you downloaded `Reacher.app`.  If this file is in the same folder as the notebook, then the line below should appear as follows:\n",
    "```\n",
    "env = UnityEnvironment(file_name=\"Reacher.app\")\n",
    "```"
   ]
  },
  {
   "cell_type": "code",
   "execution_count": 2,
   "metadata": {},
   "outputs": [
    {
     "name": "stderr",
     "output_type": "stream",
     "text": [
      "INFO:unityagents:\n",
      "'Academy' started successfully!\n",
      "Unity Academy name: Academy\n",
      "        Number of Brains: 1\n",
      "        Number of External Brains : 1\n",
      "        Lesson number : 0\n",
      "        Reset Parameters :\n",
      "\t\tgoal_speed -> 1.0\n",
      "\t\tgoal_size -> 5.0\n",
      "Unity brain name: ReacherBrain\n",
      "        Number of Visual Observations (per agent): 0\n",
      "        Vector Observation space type: continuous\n",
      "        Vector Observation space size (per agent): 33\n",
      "        Number of stacked Vector Observation: 1\n",
      "        Vector Action space type: continuous\n",
      "        Vector Action space size (per agent): 4\n",
      "        Vector Action descriptions: , , , \n"
     ]
    }
   ],
   "source": [
    "env = UnityEnvironment(file_name='.\\Reacher_Windows_x86_64\\Reacher.exe')"
   ]
  },
  {
   "cell_type": "markdown",
   "metadata": {},
   "source": [
    "Environments contain **_brains_** which are responsible for deciding the actions of their associated agents. Here we check for the first brain available, and set it as the default brain we will be controlling from Python."
   ]
  },
  {
   "cell_type": "code",
   "execution_count": 3,
   "metadata": {
    "collapsed": true
   },
   "outputs": [],
   "source": [
    "# get the default brain\n",
    "brain_name = env.brain_names[0]\n",
    "brain = env.brains[brain_name]"
   ]
  },
  {
   "cell_type": "markdown",
   "metadata": {},
   "source": [
    "### 2. Examine the State and Action Spaces\n",
    "\n",
    "In this environment, a double-jointed arm can move to target locations. A reward of `+0.1` is provided for each step that the agent's hand is in the goal location. Thus, the goal of your agent is to maintain its position at the target location for as many time steps as possible.\n",
    "\n",
    "The observation space consists of `33` variables corresponding to position, rotation, velocity, and angular velocities of the arm.  Each action is a vector with four numbers, corresponding to torque applicable to two joints.  Every entry in the action vector must be a number between `-1` and `1`.\n",
    "\n",
    "Run the code cell below to print some information about the environment."
   ]
  },
  {
   "cell_type": "code",
   "execution_count": 4,
   "metadata": {},
   "outputs": [
    {
     "name": "stdout",
     "output_type": "stream",
     "text": [
      "Number of agents: 20\n",
      "Size of each action: 4\n",
      "There are 20 agents. Each observes a state with length: 33\n",
      "The state for the first agent looks like: [ 0.00000000e+00 -4.00000000e+00  0.00000000e+00  1.00000000e+00\n",
      " -0.00000000e+00 -0.00000000e+00 -4.37113883e-08  0.00000000e+00\n",
      "  0.00000000e+00  0.00000000e+00  0.00000000e+00  0.00000000e+00\n",
      "  0.00000000e+00  0.00000000e+00 -1.00000000e+01  0.00000000e+00\n",
      "  1.00000000e+00 -0.00000000e+00 -0.00000000e+00 -4.37113883e-08\n",
      "  0.00000000e+00  0.00000000e+00  0.00000000e+00  0.00000000e+00\n",
      "  0.00000000e+00  0.00000000e+00  5.75471878e+00 -1.00000000e+00\n",
      "  5.55726624e+00  0.00000000e+00  1.00000000e+00  0.00000000e+00\n",
      " -1.68164849e-01]\n"
     ]
    }
   ],
   "source": [
    "# reset the environment\n",
    "env_info = env.reset(train_mode=True)[brain_name]\n",
    "\n",
    "# number of agents\n",
    "num_agents = len(env_info.agents)\n",
    "print('Number of agents:', num_agents)\n",
    "\n",
    "# size of each action\n",
    "action_size = brain.vector_action_space_size\n",
    "print('Size of each action:', action_size)\n",
    "\n",
    "# examine the state space\n",
    "states = env_info.vector_observations\n",
    "state_size = states.shape[1]\n",
    "print('There are {} agents. Each observes a state with length: {}'.format(states.shape[0], state_size))\n",
    "print('The state for the first agent looks like:', states[0])"
   ]
  },
  {
   "cell_type": "markdown",
   "metadata": {},
   "source": [
    "### 3. Import the Necessary Packages\n",
    "\n",
    "In the next code cell, we will learn how to use the Python API to control the agent and receive feedback from the environment."
   ]
  },
  {
   "cell_type": "code",
   "execution_count": 5,
   "metadata": {
    "collapsed": true
   },
   "outputs": [],
   "source": [
    "from ddpg_agent import Agent\n",
    "from collections import deque\n",
    "import torch\n",
    "agent = Agent(33, 4, 0)"
   ]
  },
  {
   "cell_type": "markdown",
   "metadata": {},
   "source": [
    "### 4. Instantiate the Environment and Agent\n",
    "\n",
    "Once this cell is executed, you will watch the agent's performance. A window should pop up that allows you to observe the agent, as it moves through the environment. When training the environment, set train_mode=True, so that the line for resetting the environment looks like the following:\n",
    "\n",
    "env_info = env.reset(train_mode=True)[brain_name]"
   ]
  },
  {
   "cell_type": "code",
   "execution_count": 6,
   "metadata": {},
   "outputs": [
    {
     "data": {
      "text/plain": [
       "(20, 33)"
      ]
     },
     "execution_count": 6,
     "metadata": {},
     "output_type": "execute_result"
    }
   ],
   "source": [
    "env_info = env.reset(train_mode=True)[brain_name]\n",
    "env_info.vector_observations.shape"
   ]
  },
  {
   "cell_type": "markdown",
   "metadata": {},
   "source": [
    "### 5. Train the Agent with DDPG to Solve the Environment on the Second Version\n",
    "\n",
    "Run the code cell below to train the agent from scratch.  Alternatively, we can skip to the next code cell to load the pre-trained weights from file. For this project, we will provide you the second version which contains 20 identical agents, each with its own copy of the environment. In particular, our agents must get an average score of +30 (over 100 consecutive episodes, and over all agents). Specifically,"
   ]
  },
  {
   "cell_type": "code",
   "execution_count": 7,
   "metadata": {},
   "outputs": [
    {
     "name": "stderr",
     "output_type": "stream",
     "text": [
      "C:\\Users\\willy\\Anaconda3\\envs\\drlnd\\lib\\site-packages\\torch\\nn\\functional.py:995: UserWarning: nn.functional.tanh is deprecated. Use torch.tanh instead.\n",
      "  warnings.warn(\"nn.functional.tanh is deprecated. Use torch.tanh instead.\")\n"
     ]
    },
    {
     "name": "stdout",
     "output_type": "stream",
     "text": [
      "Episode 1\tAverage Score: 0.49\n",
      "Episode 2\tAverage Score: 0.81\n",
      "Episode 3\tAverage Score: 0.93\n",
      "Episode 4\tAverage Score: 1.05\n",
      "Episode 5\tAverage Score: 1.20\n",
      "Episode 6\tAverage Score: 1.30\n",
      "Episode 7\tAverage Score: 1.40\n",
      "Episode 8\tAverage Score: 1.48\n",
      "Episode 9\tAverage Score: 1.61\n",
      "Episode 10\tAverage Score: 1.71\n",
      "Episode 11\tAverage Score: 1.84\n",
      "Episode 12\tAverage Score: 2.00\n",
      "Episode 13\tAverage Score: 2.17\n",
      "Episode 14\tAverage Score: 2.31\n",
      "Episode 15\tAverage Score: 2.46\n",
      "Episode 16\tAverage Score: 2.59\n",
      "Episode 17\tAverage Score: 2.72\n",
      "Episode 18\tAverage Score: 2.87\n",
      "Episode 19\tAverage Score: 3.03\n",
      "Episode 20\tAverage Score: 3.21\n",
      "Episode 21\tAverage Score: 3.45\n",
      "Episode 22\tAverage Score: 3.73\n",
      "Episode 23\tAverage Score: 4.03\n",
      "Episode 24\tAverage Score: 4.34\n",
      "Episode 25\tAverage Score: 4.66\n",
      "Episode 26\tAverage Score: 4.91\n",
      "Episode 27\tAverage Score: 5.18\n",
      "Episode 28\tAverage Score: 5.43\n",
      "Episode 29\tAverage Score: 5.72\n",
      "Episode 30\tAverage Score: 6.04\n",
      "Episode 31\tAverage Score: 6.32\n",
      "Episode 32\tAverage Score: 6.61\n",
      "Episode 33\tAverage Score: 6.87\n",
      "Episode 34\tAverage Score: 7.13\n",
      "Episode 35\tAverage Score: 7.44\n",
      "Episode 36\tAverage Score: 7.72\n",
      "Episode 37\tAverage Score: 8.02\n",
      "Episode 38\tAverage Score: 8.34\n",
      "Episode 39\tAverage Score: 8.61\n",
      "Episode 40\tAverage Score: 8.86\n",
      "Episode 41\tAverage Score: 9.13\n",
      "Episode 42\tAverage Score: 9.39\n",
      "Episode 43\tAverage Score: 9.64\n",
      "Episode 44\tAverage Score: 9.88\n",
      "Episode 45\tAverage Score: 10.10\n",
      "Episode 46\tAverage Score: 10.35\n",
      "Episode 47\tAverage Score: 10.55\n",
      "Episode 48\tAverage Score: 10.74\n",
      "Episode 49\tAverage Score: 10.93\n",
      "Episode 50\tAverage Score: 11.10\n",
      "Episode 51\tAverage Score: 11.29\n",
      "Episode 52\tAverage Score: 11.46\n",
      "Episode 53\tAverage Score: 11.66\n",
      "Episode 54\tAverage Score: 11.85\n",
      "Episode 55\tAverage Score: 12.04\n",
      "Episode 56\tAverage Score: 12.24\n",
      "Episode 57\tAverage Score: 12.43\n",
      "Episode 58\tAverage Score: 12.62\n",
      "Episode 59\tAverage Score: 12.79\n",
      "Episode 60\tAverage Score: 12.94\n",
      "Episode 61\tAverage Score: 13.10\n",
      "Episode 62\tAverage Score: 13.25\n",
      "Episode 63\tAverage Score: 13.39\n",
      "Episode 64\tAverage Score: 13.52\n",
      "Episode 65\tAverage Score: 13.66\n",
      "Episode 66\tAverage Score: 13.84\n",
      "Episode 67\tAverage Score: 14.00\n",
      "Episode 68\tAverage Score: 14.15\n",
      "Episode 69\tAverage Score: 14.29\n",
      "Episode 70\tAverage Score: 14.42\n",
      "Episode 71\tAverage Score: 14.58\n",
      "Episode 72\tAverage Score: 14.72\n",
      "Episode 73\tAverage Score: 14.87\n",
      "Episode 74\tAverage Score: 15.01\n",
      "Episode 75\tAverage Score: 15.13\n",
      "Episode 76\tAverage Score: 15.27\n",
      "Episode 77\tAverage Score: 15.39\n",
      "Episode 78\tAverage Score: 15.50\n",
      "Episode 79\tAverage Score: 15.63\n",
      "Episode 80\tAverage Score: 15.75\n",
      "Episode 81\tAverage Score: 15.90\n",
      "Episode 82\tAverage Score: 16.01\n",
      "Episode 83\tAverage Score: 16.13\n",
      "Episode 84\tAverage Score: 16.24\n",
      "Episode 85\tAverage Score: 16.35\n",
      "Episode 86\tAverage Score: 16.47\n",
      "Episode 87\tAverage Score: 16.59\n",
      "Episode 88\tAverage Score: 16.69\n",
      "Episode 89\tAverage Score: 16.79\n",
      "Episode 90\tAverage Score: 16.90\n",
      "Episode 91\tAverage Score: 17.01\n",
      "Episode 92\tAverage Score: 17.12\n",
      "Episode 93\tAverage Score: 17.25\n",
      "Episode 94\tAverage Score: 17.36\n",
      "Episode 95\tAverage Score: 17.45\n",
      "Episode 96\tAverage Score: 17.57\n",
      "Episode 97\tAverage Score: 17.66\n",
      "Episode 98\tAverage Score: 17.77\n",
      "Episode 99\tAverage Score: 17.87\n",
      "Episode 100\tAverage Score: 17.98\n",
      "Episode 101\tAverage Score: 18.25\n",
      "Episode 102\tAverage Score: 18.51\n",
      "Episode 103\tAverage Score: 18.78\n",
      "Episode 104\tAverage Score: 19.05\n",
      "Episode 105\tAverage Score: 19.32\n",
      "Episode 106\tAverage Score: 19.58\n",
      "Episode 107\tAverage Score: 19.84\n",
      "Episode 108\tAverage Score: 20.11\n",
      "Episode 109\tAverage Score: 20.38\n",
      "Episode 110\tAverage Score: 20.63\n",
      "Episode 111\tAverage Score: 20.88\n",
      "Episode 112\tAverage Score: 21.12\n",
      "Episode 113\tAverage Score: 21.37\n",
      "Episode 114\tAverage Score: 21.61\n",
      "Episode 115\tAverage Score: 21.84\n",
      "Episode 116\tAverage Score: 22.07\n",
      "Episode 117\tAverage Score: 22.30\n",
      "Episode 118\tAverage Score: 22.53\n",
      "Episode 119\tAverage Score: 22.76\n",
      "Episode 120\tAverage Score: 22.97\n",
      "Episode 121\tAverage Score: 23.19\n",
      "Episode 122\tAverage Score: 23.39\n",
      "Episode 123\tAverage Score: 23.57\n",
      "Episode 124\tAverage Score: 23.76\n",
      "Episode 125\tAverage Score: 23.93\n",
      "Episode 126\tAverage Score: 24.10\n",
      "Episode 127\tAverage Score: 24.27\n",
      "Episode 128\tAverage Score: 24.45\n",
      "Episode 129\tAverage Score: 24.60\n",
      "Episode 130\tAverage Score: 24.74\n",
      "Episode 131\tAverage Score: 24.89\n",
      "Episode 132\tAverage Score: 25.03\n",
      "Episode 133\tAverage Score: 25.17\n",
      "Episode 134\tAverage Score: 25.30\n",
      "Episode 135\tAverage Score: 25.41\n",
      "Episode 136\tAverage Score: 25.52\n",
      "Episode 137\tAverage Score: 25.62\n",
      "Episode 138\tAverage Score: 25.70\n",
      "Episode 139\tAverage Score: 25.81\n",
      "Episode 140\tAverage Score: 25.90\n",
      "Episode 141\tAverage Score: 25.97\n",
      "Episode 142\tAverage Score: 26.06\n",
      "Episode 143\tAverage Score: 26.16\n",
      "Episode 144\tAverage Score: 26.25\n",
      "Episode 145\tAverage Score: 26.35\n",
      "Episode 146\tAverage Score: 26.43\n",
      "Episode 147\tAverage Score: 26.53\n",
      "Episode 148\tAverage Score: 26.62\n",
      "Episode 149\tAverage Score: 26.71\n",
      "Episode 150\tAverage Score: 26.81\n",
      "Episode 151\tAverage Score: 26.90\n",
      "Episode 152\tAverage Score: 26.99\n",
      "Episode 153\tAverage Score: 27.07\n",
      "Episode 154\tAverage Score: 27.13\n",
      "Episode 155\tAverage Score: 27.19\n",
      "Episode 156\tAverage Score: 27.22\n",
      "Episode 157\tAverage Score: 27.28\n",
      "Episode 158\tAverage Score: 27.32\n",
      "Episode 159\tAverage Score: 27.37\n",
      "Episode 160\tAverage Score: 27.45\n",
      "Episode 161\tAverage Score: 27.52\n",
      "Episode 162\tAverage Score: 27.59\n",
      "Episode 163\tAverage Score: 27.67\n",
      "Episode 164\tAverage Score: 27.75\n",
      "Episode 165\tAverage Score: 27.82\n",
      "Episode 166\tAverage Score: 27.85\n",
      "Episode 167\tAverage Score: 27.91\n",
      "Episode 168\tAverage Score: 27.96\n",
      "Episode 169\tAverage Score: 28.01\n",
      "Episode 170\tAverage Score: 28.10\n",
      "Episode 171\tAverage Score: 28.14\n",
      "Episode 172\tAverage Score: 28.19\n",
      "Episode 173\tAverage Score: 28.24\n",
      "Episode 174\tAverage Score: 28.28\n",
      "Episode 175\tAverage Score: 28.36\n",
      "Episode 176\tAverage Score: 28.41\n",
      "Episode 177\tAverage Score: 28.47\n",
      "Episode 178\tAverage Score: 28.53\n",
      "Episode 179\tAverage Score: 28.58\n",
      "Episode 180\tAverage Score: 28.64\n",
      "Episode 181\tAverage Score: 28.67\n",
      "Episode 182\tAverage Score: 28.74\n",
      "Episode 183\tAverage Score: 28.79\n",
      "Episode 184\tAverage Score: 28.85\n",
      "Episode 185\tAverage Score: 28.90\n",
      "Episode 186\tAverage Score: 28.95\n",
      "Episode 187\tAverage Score: 29.00\n",
      "Episode 188\tAverage Score: 29.06\n",
      "Episode 189\tAverage Score: 29.10\n",
      "Episode 190\tAverage Score: 29.14\n",
      "Episode 191\tAverage Score: 29.18\n",
      "Episode 192\tAverage Score: 29.23\n",
      "Episode 193\tAverage Score: 29.25\n",
      "Episode 194\tAverage Score: 29.29\n",
      "Episode 195\tAverage Score: 29.36\n",
      "Episode 196\tAverage Score: 29.39\n",
      "Episode 197\tAverage Score: 29.44\n",
      "Episode 198\tAverage Score: 29.49\n",
      "Episode 199\tAverage Score: 29.53\n",
      "Episode 200\tAverage Score: 29.57\n",
      "Episode 201\tAverage Score: 29.62\n",
      "Episode 202\tAverage Score: 29.68\n",
      "Episode 203\tAverage Score: 29.71\n",
      "Episode 204\tAverage Score: 29.75\n",
      "Episode 205\tAverage Score: 29.78\n",
      "Episode 206\tAverage Score: 29.83\n",
      "Episode 207\tAverage Score: 29.88\n",
      "Episode 208\tAverage Score: 29.91\n",
      "Episode 209\tAverage Score: 29.94\n",
      "Episode 210\tAverage Score: 29.99\n",
      "Episode 211\tAverage Score: 30.03\n",
      "Done! Yay!\n"
     ]
    }
   ],
   "source": [
    "def ddpg(n_episodes=300, max_t=300, print_every=1):\n",
    "    scores_deque = deque(maxlen=100)\n",
    "    scores = []\n",
    "    for i_episode in range(1, n_episodes+1):\n",
    "        env_info = env.reset(train_mode=True)[brain_name]\n",
    "        states = env_info.vector_observations\n",
    "        agent.reset()\n",
    "        score = np.zeros((20,))\n",
    "        while True:\n",
    "            actions = agent.act(states)\n",
    "            env_info = env.step(actions)[brain_name]\n",
    "            next_states = env_info.vector_observations\n",
    "            rewards = env_info.rewards\n",
    "            dones = env_info.local_done\n",
    "            agent.step(states, actions, rewards, next_states, dones)\n",
    "            states = next_states\n",
    "            score += np.array(rewards)\n",
    "            if any(dones):\n",
    "                break \n",
    "                \n",
    "        scores_deque.append(np.mean(score))\n",
    "        scores.append(np.mean(score))\n",
    "        #print('\\rEpisode {}\\tScore: {:.2f}'.format(i_episode, scores[-1]))\n",
    "        torch.save(agent.actor_local.state_dict(), 'checkpoint_actor.pth')\n",
    "        torch.save(agent.critic_local.state_dict(), 'checkpoint_critic.pth')\n",
    "        \n",
    "        if i_episode % print_every == 0:\n",
    "            print('\\rEpisode {}\\tAverage Score: {:.2f}'.format(i_episode, np.mean(scores_deque)))\n",
    "            if len(scores_deque) == 100 and np.mean(scores_deque) >= 30:\n",
    "                print('Done! Yay!')\n",
    "                break\n",
    "            \n",
    "    return scores\n",
    "\n",
    "scores = ddpg()"
   ]
  },
  {
   "cell_type": "markdown",
   "metadata": {},
   "source": [
    "Generated the output plot below, where we have plotted the average score (over all 20 agents) obtained with each episode. The environment is considered solved, when the average (over 100 episodes) of those average scores is at least +30."
   ]
  },
  {
   "cell_type": "code",
   "execution_count": 8,
   "metadata": {},
   "outputs": [
    {
     "data": {
      "image/png": "[encoded data removed]",
      "text/plain": [
       "<Figure size 432x288 with 1 Axes>"
      ]
     },
     "metadata": {},
     "output_type": "display_data"
    }
   ],
   "source": [
    "import matplotlib.pyplot as plt\n",
    "%matplotlib inline\n",
    "fig = plt.figure()\n",
    "ax = fig.add_subplot(111)\n",
    "plt.plot(np.arange(1, len(scores) + 1), scores)\n",
    "plt.ylabel('Score')\n",
    "plt.xlabel('Episode #')\n",
    "plt.show()\n",
    "\n",
    "fig.savefig('scores.png')"
   ]
  },
  {
   "cell_type": "markdown",
   "metadata": {},
   "source": [
    "### 6. Watch a Smart Agent!\n",
    "\n",
    "In the next code cell, you will load the trained weights from file to watch a smart agent! When finished, you can close the environment as following:\n",
    "\n",
    "env.close()"
   ]
  },
  {
   "cell_type": "code",
   "execution_count": 9,
   "metadata": {},
   "outputs": [
    {
     "name": "stderr",
     "output_type": "stream",
     "text": [
      "C:\\Users\\willy\\Anaconda3\\envs\\drlnd\\lib\\site-packages\\torch\\nn\\functional.py:995: UserWarning: nn.functional.tanh is deprecated. Use torch.tanh instead.\n",
      "  warnings.warn(\"nn.functional.tanh is deprecated. Use torch.tanh instead.\")\n"
     ]
    }
   ],
   "source": [
    "def run_trained_agent():\n",
    "    env_info = env.reset(train_mode=False)[brain_name]\n",
    "\n",
    "    states = env_info.vector_observations\n",
    "    agent.reset()\n",
    "    while True:\n",
    "        actions = agent.act(states)\n",
    "        env_info = env.step(actions)[brain_name]\n",
    "        next_states = env_info.vector_observations\n",
    "        rewards = env_info.rewards\n",
    "        dones = env_info.local_done\n",
    "        states = next_states\n",
    "        if any(dones):\n",
    "            break \n",
    "            \n",
    "run_trained_agent()\n",
    "\n",
    "env.close()"
   ]
  }
 ],
 "metadata": {
  "kernelspec": {
   "display_name": "drlnd",
   "language": "python",
   "name": "drlnd"
  },
  "language_info": {
   "codemirror_mode": {
    "name": "ipython",
    "version": 3
   },
   "file_extension": ".py",
   "mimetype": "text/x-python",
   "name": "python",
   "nbconvert_exporter": "python",
   "pygments_lexer": "ipython3",
   "version": "3.6.6"
  }
 },
 "nbformat": 4,
 "nbformat_minor": 2
}
